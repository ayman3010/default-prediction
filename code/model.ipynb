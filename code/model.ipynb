{
 "cells": [
  {
   "cell_type": "code",
   "execution_count": 232,
   "metadata": {},
   "outputs": [
    {
     "ename": "ImportError",
     "evalue": "cannot import name 'metric_frame' from 'fairlearn.metrics' (/Users/aymanatmani/miniforge3/lib/python3.10/site-packages/fairlearn/metrics/__init__.py)",
     "output_type": "error",
     "traceback": [
      "\u001b[0;31m---------------------------------------------------------------------------\u001b[0m",
      "\u001b[0;31mImportError\u001b[0m                               Traceback (most recent call last)",
      "\u001b[1;32m/Users/aymanatmani/Documents/codeml/default-prediction/code/model.ipynb Cell 1\u001b[0m line \u001b[0;36m<cell line: 7>\u001b[0;34m()\u001b[0m\n\u001b[1;32m      <a href='vscode-notebook-cell:/Users/aymanatmani/Documents/codeml/default-prediction/code/model.ipynb#X13sZmlsZQ%3D%3D?line=4'>5</a>\u001b[0m \u001b[39mfrom\u001b[39;00m \u001b[39msklearn\u001b[39;00m\u001b[39m.\u001b[39;00m\u001b[39mmetrics\u001b[39;00m \u001b[39mimport\u001b[39;00m f1_score, accuracy_score, classification_report\n\u001b[1;32m      <a href='vscode-notebook-cell:/Users/aymanatmani/Documents/codeml/default-prediction/code/model.ipynb#X13sZmlsZQ%3D%3D?line=5'>6</a>\u001b[0m \u001b[39mfrom\u001b[39;00m \u001b[39mfairlearn\u001b[39;00m\u001b[39m.\u001b[39;00m\u001b[39mreductions\u001b[39;00m \u001b[39mimport\u001b[39;00m GridSearch, DemographicParity\n\u001b[0;32m----> <a href='vscode-notebook-cell:/Users/aymanatmani/Documents/codeml/default-prediction/code/model.ipynb#X13sZmlsZQ%3D%3D?line=6'>7</a>\u001b[0m \u001b[39mfrom\u001b[39;00m \u001b[39mfairlearn\u001b[39;00m\u001b[39m.\u001b[39;00m\u001b[39mmetrics\u001b[39;00m \u001b[39mimport\u001b[39;00m metric_frame, selection_rate\n",
      "\u001b[0;31mImportError\u001b[0m: cannot import name 'metric_frame' from 'fairlearn.metrics' (/Users/aymanatmani/miniforge3/lib/python3.10/site-packages/fairlearn/metrics/__init__.py)"
     ]
    }
   ],
   "source": [
    "import pandas as pd\n",
    "from sklearn.model_selection import train_test_split\n",
    "from sklearn.preprocessing import LabelEncoder\n",
    "from sklearn.ensemble import GradientBoostingClassifier\n",
    "from sklearn.metrics import f1_score, accuracy_score, classification_report\n",
    "from fairlearn.reductions import GridSearch, DemographicParity\n",
    "from fairlearn.metrics import metric_frame, selection_rate\n"
   ]
  },
  {
   "cell_type": "code",
   "execution_count": null,
   "metadata": {},
   "outputs": [],
   "source": [
    "# Load the dataset\n",
    "file_path = '../DataSet/data_participant.csv'\n",
    "data = pd.read_csv(file_path)"
   ]
  },
  {
   "cell_type": "code",
   "execution_count": null,
   "metadata": {},
   "outputs": [],
   "source": [
    "# Encode categorical variables\n",
    "label_encoder = LabelEncoder()\n",
    "categorical_cols = ['SEX', 'EDUCATION', 'MARRIAGE']\n",
    "for col in categorical_cols:\n",
    "    data[col] = label_encoder.fit_transform(data[col])\n"
   ]
  },
  {
   "cell_type": "code",
   "execution_count": null,
   "metadata": {},
   "outputs": [],
   "source": [
    "\n",
    "# Remove rows with missing target values\n",
    "train_data = data.dropna(subset=['default-payment-next-month'])\n",
    "test_data = data[data['default-payment-next-month'].isnull()]"
   ]
  },
  {
   "cell_type": "code",
   "execution_count": null,
   "metadata": {},
   "outputs": [],
   "source": [
    "\n",
    "# Split data into X (features) and y (target)\n",
    "X = train_data.drop(columns=['ID', 'default-payment-next-month'])\n",
    "y = train_data['default-payment-next-month']"
   ]
  },
  {
   "cell_type": "code",
   "execution_count": null,
   "metadata": {},
   "outputs": [
    {
     "data": {
      "text/plain": [
       "Index(['LIMIT_BAL', 'SEX', 'EDUCATION', 'MARRIAGE', 'AGE', 'PAY_0', 'PAY_2',\n",
       "       'PAY_3', 'PAY_4', 'PAY_5', 'PAY_6', 'BILL_AMT1', 'BILL_AMT2',\n",
       "       'BILL_AMT3', 'BILL_AMT4', 'BILL_AMT5', 'BILL_AMT6', 'PAY_AMT1',\n",
       "       'PAY_AMT2', 'PAY_AMT3', 'PAY_AMT4', 'PAY_AMT5', 'PAY_AMT6'],\n",
       "      dtype='object')"
      ]
     },
     "execution_count": 226,
     "metadata": {},
     "output_type": "execute_result"
    }
   ],
   "source": [
    "X_train, X_test, y_train, y_test = train_test_split(X, y, test_size=0.2, random_state=42)"
   ]
  },
  {
   "cell_type": "code",
   "execution_count": 233,
   "metadata": {},
   "outputs": [],
   "source": [
    "# model = GradientBoostingClassifier(n_estimators=100, learning_rate=0.1, max_depth=3, random_state=42)\n",
    "# model.fit(X_train, y_train)\n",
    "\n",
    "# # Predict and evaluate performance\n",
    "# y_pred = model.predict(X_test)\n",
    "\n",
    "# print(\"Accuracy:\", accuracy_score(y_test, y_pred))\n",
    "# print(classification_report(y_test, y_pred))\n",
    "\n",
    "\n",
    "# Identify Sensitive Feature\n",
    "sensitive_feature = X_train['SEX']  # Assuming SEX is a sensitive feature\n",
    "\n",
    "# Set up GridSearch for DemographicParity constraint\n",
    "sweep = GridSearch(GradientBoostingClassifier(n_estimators=100, learning_rate=0.1, max_depth=3, random_state=42),\n",
    "                   constraints=DemographicParity(),\n",
    "                   grid_size=70)\n"
   ]
  },
  {
   "cell_type": "code",
   "execution_count": 234,
   "metadata": {},
   "outputs": [
    {
     "ename": "AttributeError",
     "evalue": "'GridSearch' object has no attribute '_select_best_model_index'",
     "output_type": "error",
     "traceback": [
      "\u001b[0;31m---------------------------------------------------------------------------\u001b[0m",
      "\u001b[0;31mAttributeError\u001b[0m                            Traceback (most recent call last)",
      "\u001b[1;32m/Users/aymanatmani/Documents/codeml/default-prediction/code/model.ipynb Cell 8\u001b[0m line \u001b[0;36m<cell line: 5>\u001b[0;34m()\u001b[0m\n\u001b[1;32m      <a href='vscode-notebook-cell:/Users/aymanatmani/Documents/codeml/default-prediction/code/model.ipynb#X20sZmlsZQ%3D%3D?line=1'>2</a>\u001b[0m sweep\u001b[39m.\u001b[39mfit(X_train, y_train, sensitive_features\u001b[39m=\u001b[39msensitive_feature)\n\u001b[1;32m      <a href='vscode-notebook-cell:/Users/aymanatmani/Documents/codeml/default-prediction/code/model.ipynb#X20sZmlsZQ%3D%3D?line=3'>4</a>\u001b[0m \u001b[39m# Select best model with trade-off between accuracy and fairness\u001b[39;00m\n\u001b[0;32m----> <a href='vscode-notebook-cell:/Users/aymanatmani/Documents/codeml/default-prediction/code/model.ipynb#X20sZmlsZQ%3D%3D?line=4'>5</a>\u001b[0m best_model_index \u001b[39m=\u001b[39m sweep\u001b[39m.\u001b[39;49m_select_best_model_index()\n\u001b[1;32m      <a href='vscode-notebook-cell:/Users/aymanatmani/Documents/codeml/default-prediction/code/model.ipynb#X20sZmlsZQ%3D%3D?line=5'>6</a>\u001b[0m best_model \u001b[39m=\u001b[39m sweep\u001b[39m.\u001b[39m_models[best_model_index]\n\u001b[1;32m      <a href='vscode-notebook-cell:/Users/aymanatmani/Documents/codeml/default-prediction/code/model.ipynb#X20sZmlsZQ%3D%3D?line=7'>8</a>\u001b[0m \u001b[39m# Predict and evaluate performance\u001b[39;00m\n",
      "\u001b[0;31mAttributeError\u001b[0m: 'GridSearch' object has no attribute '_select_best_model_index'"
     ]
    }
   ],
   "source": [
    "\n",
    "# Train with constraint\n",
    "sweep.fit(X_train, y_train, sensitive_features=sensitive_feature)\n"
   ]
  },
  {
   "cell_type": "code",
   "execution_count": 244,
   "metadata": {},
   "outputs": [
    {
     "name": "stderr",
     "output_type": "stream",
     "text": [
      "/Users/aymanatmani/miniforge3/lib/python3.10/site-packages/fairlearn/metrics/_metric_frame.py:77: FutureWarning: You have provided 'metrics', 'y_true', 'y_pred' as positional arguments. Please pass them as keyword arguments. From version 0.10.0 passing them as positional arguments will result in an error.\n",
      "  warnings.warn(\n",
      "/Users/aymanatmani/miniforge3/lib/python3.10/site-packages/fairlearn/metrics/_metric_frame.py:77: FutureWarning: You have provided 'metrics', 'y_true', 'y_pred' as positional arguments. Please pass them as keyword arguments. From version 0.10.0 passing them as positional arguments will result in an error.\n",
      "  warnings.warn(\n",
      "/Users/aymanatmani/miniforge3/lib/python3.10/site-packages/fairlearn/metrics/_metric_frame.py:77: FutureWarning: You have provided 'metrics', 'y_true', 'y_pred' as positional arguments. Please pass them as keyword arguments. From version 0.10.0 passing them as positional arguments will result in an error.\n",
      "  warnings.warn(\n",
      "/Users/aymanatmani/miniforge3/lib/python3.10/site-packages/fairlearn/metrics/_metric_frame.py:77: FutureWarning: You have provided 'metrics', 'y_true', 'y_pred' as positional arguments. Please pass them as keyword arguments. From version 0.10.0 passing them as positional arguments will result in an error.\n",
      "  warnings.warn(\n",
      "/Users/aymanatmani/miniforge3/lib/python3.10/site-packages/fairlearn/metrics/_metric_frame.py:77: FutureWarning: You have provided 'metrics', 'y_true', 'y_pred' as positional arguments. Please pass them as keyword arguments. From version 0.10.0 passing them as positional arguments will result in an error.\n",
      "  warnings.warn(\n",
      "/Users/aymanatmani/miniforge3/lib/python3.10/site-packages/fairlearn/metrics/_metric_frame.py:77: FutureWarning: You have provided 'metrics', 'y_true', 'y_pred' as positional arguments. Please pass them as keyword arguments. From version 0.10.0 passing them as positional arguments will result in an error.\n",
      "  warnings.warn(\n",
      "/Users/aymanatmani/miniforge3/lib/python3.10/site-packages/fairlearn/metrics/_metric_frame.py:77: FutureWarning: You have provided 'metrics', 'y_true', 'y_pred' as positional arguments. Please pass them as keyword arguments. From version 0.10.0 passing them as positional arguments will result in an error.\n",
      "  warnings.warn(\n",
      "/Users/aymanatmani/miniforge3/lib/python3.10/site-packages/fairlearn/metrics/_metric_frame.py:77: FutureWarning: You have provided 'metrics', 'y_true', 'y_pred' as positional arguments. Please pass them as keyword arguments. From version 0.10.0 passing them as positional arguments will result in an error.\n",
      "  warnings.warn(\n",
      "/Users/aymanatmani/miniforge3/lib/python3.10/site-packages/fairlearn/metrics/_metric_frame.py:77: FutureWarning: You have provided 'metrics', 'y_true', 'y_pred' as positional arguments. Please pass them as keyword arguments. From version 0.10.0 passing them as positional arguments will result in an error.\n",
      "  warnings.warn(\n",
      "/Users/aymanatmani/miniforge3/lib/python3.10/site-packages/fairlearn/metrics/_metric_frame.py:77: FutureWarning: You have provided 'metrics', 'y_true', 'y_pred' as positional arguments. Please pass them as keyword arguments. From version 0.10.0 passing them as positional arguments will result in an error.\n",
      "  warnings.warn(\n",
      "/Users/aymanatmani/miniforge3/lib/python3.10/site-packages/fairlearn/metrics/_metric_frame.py:77: FutureWarning: You have provided 'metrics', 'y_true', 'y_pred' as positional arguments. Please pass them as keyword arguments. From version 0.10.0 passing them as positional arguments will result in an error.\n",
      "  warnings.warn(\n",
      "/Users/aymanatmani/miniforge3/lib/python3.10/site-packages/fairlearn/metrics/_metric_frame.py:77: FutureWarning: You have provided 'metrics', 'y_true', 'y_pred' as positional arguments. Please pass them as keyword arguments. From version 0.10.0 passing them as positional arguments will result in an error.\n",
      "  warnings.warn(\n",
      "/Users/aymanatmani/miniforge3/lib/python3.10/site-packages/fairlearn/metrics/_metric_frame.py:77: FutureWarning: You have provided 'metrics', 'y_true', 'y_pred' as positional arguments. Please pass them as keyword arguments. From version 0.10.0 passing them as positional arguments will result in an error.\n",
      "  warnings.warn(\n",
      "/Users/aymanatmani/miniforge3/lib/python3.10/site-packages/fairlearn/metrics/_metric_frame.py:77: FutureWarning: You have provided 'metrics', 'y_true', 'y_pred' as positional arguments. Please pass them as keyword arguments. From version 0.10.0 passing them as positional arguments will result in an error.\n",
      "  warnings.warn(\n",
      "/Users/aymanatmani/miniforge3/lib/python3.10/site-packages/fairlearn/metrics/_metric_frame.py:77: FutureWarning: You have provided 'metrics', 'y_true', 'y_pred' as positional arguments. Please pass them as keyword arguments. From version 0.10.0 passing them as positional arguments will result in an error.\n",
      "  warnings.warn(\n",
      "/Users/aymanatmani/miniforge3/lib/python3.10/site-packages/fairlearn/metrics/_metric_frame.py:77: FutureWarning: You have provided 'metrics', 'y_true', 'y_pred' as positional arguments. Please pass them as keyword arguments. From version 0.10.0 passing them as positional arguments will result in an error.\n",
      "  warnings.warn(\n",
      "/Users/aymanatmani/miniforge3/lib/python3.10/site-packages/fairlearn/metrics/_metric_frame.py:77: FutureWarning: You have provided 'metrics', 'y_true', 'y_pred' as positional arguments. Please pass them as keyword arguments. From version 0.10.0 passing them as positional arguments will result in an error.\n",
      "  warnings.warn(\n",
      "/Users/aymanatmani/miniforge3/lib/python3.10/site-packages/fairlearn/metrics/_metric_frame.py:77: FutureWarning: You have provided 'metrics', 'y_true', 'y_pred' as positional arguments. Please pass them as keyword arguments. From version 0.10.0 passing them as positional arguments will result in an error.\n",
      "  warnings.warn(\n",
      "/Users/aymanatmani/miniforge3/lib/python3.10/site-packages/fairlearn/metrics/_metric_frame.py:77: FutureWarning: You have provided 'metrics', 'y_true', 'y_pred' as positional arguments. Please pass them as keyword arguments. From version 0.10.0 passing them as positional arguments will result in an error.\n",
      "  warnings.warn(\n",
      "/Users/aymanatmani/miniforge3/lib/python3.10/site-packages/fairlearn/metrics/_metric_frame.py:77: FutureWarning: You have provided 'metrics', 'y_true', 'y_pred' as positional arguments. Please pass them as keyword arguments. From version 0.10.0 passing them as positional arguments will result in an error.\n",
      "  warnings.warn(\n",
      "/Users/aymanatmani/miniforge3/lib/python3.10/site-packages/fairlearn/metrics/_metric_frame.py:77: FutureWarning: You have provided 'metrics', 'y_true', 'y_pred' as positional arguments. Please pass them as keyword arguments. From version 0.10.0 passing them as positional arguments will result in an error.\n",
      "  warnings.warn(\n",
      "/Users/aymanatmani/miniforge3/lib/python3.10/site-packages/fairlearn/metrics/_metric_frame.py:77: FutureWarning: You have provided 'metrics', 'y_true', 'y_pred' as positional arguments. Please pass them as keyword arguments. From version 0.10.0 passing them as positional arguments will result in an error.\n",
      "  warnings.warn(\n",
      "/Users/aymanatmani/miniforge3/lib/python3.10/site-packages/fairlearn/metrics/_metric_frame.py:77: FutureWarning: You have provided 'metrics', 'y_true', 'y_pred' as positional arguments. Please pass them as keyword arguments. From version 0.10.0 passing them as positional arguments will result in an error.\n",
      "  warnings.warn(\n",
      "/Users/aymanatmani/miniforge3/lib/python3.10/site-packages/fairlearn/metrics/_metric_frame.py:77: FutureWarning: You have provided 'metrics', 'y_true', 'y_pred' as positional arguments. Please pass them as keyword arguments. From version 0.10.0 passing them as positional arguments will result in an error.\n",
      "  warnings.warn(\n",
      "/Users/aymanatmani/miniforge3/lib/python3.10/site-packages/fairlearn/metrics/_metric_frame.py:77: FutureWarning: You have provided 'metrics', 'y_true', 'y_pred' as positional arguments. Please pass them as keyword arguments. From version 0.10.0 passing them as positional arguments will result in an error.\n",
      "  warnings.warn(\n",
      "/Users/aymanatmani/miniforge3/lib/python3.10/site-packages/fairlearn/metrics/_metric_frame.py:77: FutureWarning: You have provided 'metrics', 'y_true', 'y_pred' as positional arguments. Please pass them as keyword arguments. From version 0.10.0 passing them as positional arguments will result in an error.\n",
      "  warnings.warn(\n",
      "/Users/aymanatmani/miniforge3/lib/python3.10/site-packages/fairlearn/metrics/_metric_frame.py:77: FutureWarning: You have provided 'metrics', 'y_true', 'y_pred' as positional arguments. Please pass them as keyword arguments. From version 0.10.0 passing them as positional arguments will result in an error.\n",
      "  warnings.warn(\n",
      "/Users/aymanatmani/miniforge3/lib/python3.10/site-packages/fairlearn/metrics/_metric_frame.py:77: FutureWarning: You have provided 'metrics', 'y_true', 'y_pred' as positional arguments. Please pass them as keyword arguments. From version 0.10.0 passing them as positional arguments will result in an error.\n",
      "  warnings.warn(\n",
      "/Users/aymanatmani/miniforge3/lib/python3.10/site-packages/fairlearn/metrics/_metric_frame.py:77: FutureWarning: You have provided 'metrics', 'y_true', 'y_pred' as positional arguments. Please pass them as keyword arguments. From version 0.10.0 passing them as positional arguments will result in an error.\n",
      "  warnings.warn(\n",
      "/Users/aymanatmani/miniforge3/lib/python3.10/site-packages/fairlearn/metrics/_metric_frame.py:77: FutureWarning: You have provided 'metrics', 'y_true', 'y_pred' as positional arguments. Please pass them as keyword arguments. From version 0.10.0 passing them as positional arguments will result in an error.\n",
      "  warnings.warn(\n",
      "/Users/aymanatmani/miniforge3/lib/python3.10/site-packages/fairlearn/metrics/_metric_frame.py:77: FutureWarning: You have provided 'metrics', 'y_true', 'y_pred' as positional arguments. Please pass them as keyword arguments. From version 0.10.0 passing them as positional arguments will result in an error.\n",
      "  warnings.warn(\n",
      "/Users/aymanatmani/miniforge3/lib/python3.10/site-packages/fairlearn/metrics/_metric_frame.py:77: FutureWarning: You have provided 'metrics', 'y_true', 'y_pred' as positional arguments. Please pass them as keyword arguments. From version 0.10.0 passing them as positional arguments will result in an error.\n",
      "  warnings.warn(\n",
      "/Users/aymanatmani/miniforge3/lib/python3.10/site-packages/fairlearn/metrics/_metric_frame.py:77: FutureWarning: You have provided 'metrics', 'y_true', 'y_pred' as positional arguments. Please pass them as keyword arguments. From version 0.10.0 passing them as positional arguments will result in an error.\n",
      "  warnings.warn(\n",
      "/Users/aymanatmani/miniforge3/lib/python3.10/site-packages/fairlearn/metrics/_metric_frame.py:77: FutureWarning: You have provided 'metrics', 'y_true', 'y_pred' as positional arguments. Please pass them as keyword arguments. From version 0.10.0 passing them as positional arguments will result in an error.\n",
      "  warnings.warn(\n",
      "/Users/aymanatmani/miniforge3/lib/python3.10/site-packages/fairlearn/metrics/_metric_frame.py:77: FutureWarning: You have provided 'metrics', 'y_true', 'y_pred' as positional arguments. Please pass them as keyword arguments. From version 0.10.0 passing them as positional arguments will result in an error.\n",
      "  warnings.warn(\n",
      "/Users/aymanatmani/miniforge3/lib/python3.10/site-packages/fairlearn/metrics/_metric_frame.py:77: FutureWarning: You have provided 'metrics', 'y_true', 'y_pred' as positional arguments. Please pass them as keyword arguments. From version 0.10.0 passing them as positional arguments will result in an error.\n",
      "  warnings.warn(\n",
      "/Users/aymanatmani/miniforge3/lib/python3.10/site-packages/fairlearn/metrics/_metric_frame.py:77: FutureWarning: You have provided 'metrics', 'y_true', 'y_pred' as positional arguments. Please pass them as keyword arguments. From version 0.10.0 passing them as positional arguments will result in an error.\n",
      "  warnings.warn(\n",
      "/Users/aymanatmani/miniforge3/lib/python3.10/site-packages/fairlearn/metrics/_metric_frame.py:77: FutureWarning: You have provided 'metrics', 'y_true', 'y_pred' as positional arguments. Please pass them as keyword arguments. From version 0.10.0 passing them as positional arguments will result in an error.\n",
      "  warnings.warn(\n",
      "/Users/aymanatmani/miniforge3/lib/python3.10/site-packages/fairlearn/metrics/_metric_frame.py:77: FutureWarning: You have provided 'metrics', 'y_true', 'y_pred' as positional arguments. Please pass them as keyword arguments. From version 0.10.0 passing them as positional arguments will result in an error.\n",
      "  warnings.warn(\n",
      "/Users/aymanatmani/miniforge3/lib/python3.10/site-packages/fairlearn/metrics/_metric_frame.py:77: FutureWarning: You have provided 'metrics', 'y_true', 'y_pred' as positional arguments. Please pass them as keyword arguments. From version 0.10.0 passing them as positional arguments will result in an error.\n",
      "  warnings.warn(\n",
      "/Users/aymanatmani/miniforge3/lib/python3.10/site-packages/fairlearn/metrics/_metric_frame.py:77: FutureWarning: You have provided 'metrics', 'y_true', 'y_pred' as positional arguments. Please pass them as keyword arguments. From version 0.10.0 passing them as positional arguments will result in an error.\n",
      "  warnings.warn(\n",
      "/Users/aymanatmani/miniforge3/lib/python3.10/site-packages/fairlearn/metrics/_metric_frame.py:77: FutureWarning: You have provided 'metrics', 'y_true', 'y_pred' as positional arguments. Please pass them as keyword arguments. From version 0.10.0 passing them as positional arguments will result in an error.\n",
      "  warnings.warn(\n",
      "/Users/aymanatmani/miniforge3/lib/python3.10/site-packages/fairlearn/metrics/_metric_frame.py:77: FutureWarning: You have provided 'metrics', 'y_true', 'y_pred' as positional arguments. Please pass them as keyword arguments. From version 0.10.0 passing them as positional arguments will result in an error.\n",
      "  warnings.warn(\n",
      "/Users/aymanatmani/miniforge3/lib/python3.10/site-packages/fairlearn/metrics/_metric_frame.py:77: FutureWarning: You have provided 'metrics', 'y_true', 'y_pred' as positional arguments. Please pass them as keyword arguments. From version 0.10.0 passing them as positional arguments will result in an error.\n",
      "  warnings.warn(\n",
      "/Users/aymanatmani/miniforge3/lib/python3.10/site-packages/fairlearn/metrics/_metric_frame.py:77: FutureWarning: You have provided 'metrics', 'y_true', 'y_pred' as positional arguments. Please pass them as keyword arguments. From version 0.10.0 passing them as positional arguments will result in an error.\n",
      "  warnings.warn(\n",
      "/Users/aymanatmani/miniforge3/lib/python3.10/site-packages/fairlearn/metrics/_metric_frame.py:77: FutureWarning: You have provided 'metrics', 'y_true', 'y_pred' as positional arguments. Please pass them as keyword arguments. From version 0.10.0 passing them as positional arguments will result in an error.\n",
      "  warnings.warn(\n",
      "/Users/aymanatmani/miniforge3/lib/python3.10/site-packages/fairlearn/metrics/_metric_frame.py:77: FutureWarning: You have provided 'metrics', 'y_true', 'y_pred' as positional arguments. Please pass them as keyword arguments. From version 0.10.0 passing them as positional arguments will result in an error.\n",
      "  warnings.warn(\n",
      "/Users/aymanatmani/miniforge3/lib/python3.10/site-packages/fairlearn/metrics/_metric_frame.py:77: FutureWarning: You have provided 'metrics', 'y_true', 'y_pred' as positional arguments. Please pass them as keyword arguments. From version 0.10.0 passing them as positional arguments will result in an error.\n",
      "  warnings.warn(\n",
      "/Users/aymanatmani/miniforge3/lib/python3.10/site-packages/fairlearn/metrics/_metric_frame.py:77: FutureWarning: You have provided 'metrics', 'y_true', 'y_pred' as positional arguments. Please pass them as keyword arguments. From version 0.10.0 passing them as positional arguments will result in an error.\n",
      "  warnings.warn(\n",
      "/Users/aymanatmani/miniforge3/lib/python3.10/site-packages/fairlearn/metrics/_metric_frame.py:77: FutureWarning: You have provided 'metrics', 'y_true', 'y_pred' as positional arguments. Please pass them as keyword arguments. From version 0.10.0 passing them as positional arguments will result in an error.\n",
      "  warnings.warn(\n",
      "/Users/aymanatmani/miniforge3/lib/python3.10/site-packages/fairlearn/metrics/_metric_frame.py:77: FutureWarning: You have provided 'metrics', 'y_true', 'y_pred' as positional arguments. Please pass them as keyword arguments. From version 0.10.0 passing them as positional arguments will result in an error.\n",
      "  warnings.warn(\n",
      "/Users/aymanatmani/miniforge3/lib/python3.10/site-packages/fairlearn/metrics/_metric_frame.py:77: FutureWarning: You have provided 'metrics', 'y_true', 'y_pred' as positional arguments. Please pass them as keyword arguments. From version 0.10.0 passing them as positional arguments will result in an error.\n",
      "  warnings.warn(\n",
      "/Users/aymanatmani/miniforge3/lib/python3.10/site-packages/fairlearn/metrics/_metric_frame.py:77: FutureWarning: You have provided 'metrics', 'y_true', 'y_pred' as positional arguments. Please pass them as keyword arguments. From version 0.10.0 passing them as positional arguments will result in an error.\n",
      "  warnings.warn(\n",
      "/Users/aymanatmani/miniforge3/lib/python3.10/site-packages/fairlearn/metrics/_metric_frame.py:77: FutureWarning: You have provided 'metrics', 'y_true', 'y_pred' as positional arguments. Please pass them as keyword arguments. From version 0.10.0 passing them as positional arguments will result in an error.\n",
      "  warnings.warn(\n",
      "/Users/aymanatmani/miniforge3/lib/python3.10/site-packages/fairlearn/metrics/_metric_frame.py:77: FutureWarning: You have provided 'metrics', 'y_true', 'y_pred' as positional arguments. Please pass them as keyword arguments. From version 0.10.0 passing them as positional arguments will result in an error.\n",
      "  warnings.warn(\n",
      "/Users/aymanatmani/miniforge3/lib/python3.10/site-packages/fairlearn/metrics/_metric_frame.py:77: FutureWarning: You have provided 'metrics', 'y_true', 'y_pred' as positional arguments. Please pass them as keyword arguments. From version 0.10.0 passing them as positional arguments will result in an error.\n",
      "  warnings.warn(\n",
      "/Users/aymanatmani/miniforge3/lib/python3.10/site-packages/fairlearn/metrics/_metric_frame.py:77: FutureWarning: You have provided 'metrics', 'y_true', 'y_pred' as positional arguments. Please pass them as keyword arguments. From version 0.10.0 passing them as positional arguments will result in an error.\n",
      "  warnings.warn(\n",
      "/Users/aymanatmani/miniforge3/lib/python3.10/site-packages/fairlearn/metrics/_metric_frame.py:77: FutureWarning: You have provided 'metrics', 'y_true', 'y_pred' as positional arguments. Please pass them as keyword arguments. From version 0.10.0 passing them as positional arguments will result in an error.\n",
      "  warnings.warn(\n",
      "/Users/aymanatmani/miniforge3/lib/python3.10/site-packages/fairlearn/metrics/_metric_frame.py:77: FutureWarning: You have provided 'metrics', 'y_true', 'y_pred' as positional arguments. Please pass them as keyword arguments. From version 0.10.0 passing them as positional arguments will result in an error.\n",
      "  warnings.warn(\n",
      "/Users/aymanatmani/miniforge3/lib/python3.10/site-packages/fairlearn/metrics/_metric_frame.py:77: FutureWarning: You have provided 'metrics', 'y_true', 'y_pred' as positional arguments. Please pass them as keyword arguments. From version 0.10.0 passing them as positional arguments will result in an error.\n",
      "  warnings.warn(\n",
      "/Users/aymanatmani/miniforge3/lib/python3.10/site-packages/fairlearn/metrics/_metric_frame.py:77: FutureWarning: You have provided 'metrics', 'y_true', 'y_pred' as positional arguments. Please pass them as keyword arguments. From version 0.10.0 passing them as positional arguments will result in an error.\n",
      "  warnings.warn(\n",
      "/Users/aymanatmani/miniforge3/lib/python3.10/site-packages/fairlearn/metrics/_metric_frame.py:77: FutureWarning: You have provided 'metrics', 'y_true', 'y_pred' as positional arguments. Please pass them as keyword arguments. From version 0.10.0 passing them as positional arguments will result in an error.\n",
      "  warnings.warn(\n",
      "/Users/aymanatmani/miniforge3/lib/python3.10/site-packages/fairlearn/metrics/_metric_frame.py:77: FutureWarning: You have provided 'metrics', 'y_true', 'y_pred' as positional arguments. Please pass them as keyword arguments. From version 0.10.0 passing them as positional arguments will result in an error.\n",
      "  warnings.warn(\n",
      "/Users/aymanatmani/miniforge3/lib/python3.10/site-packages/fairlearn/metrics/_metric_frame.py:77: FutureWarning: You have provided 'metrics', 'y_true', 'y_pred' as positional arguments. Please pass them as keyword arguments. From version 0.10.0 passing them as positional arguments will result in an error.\n",
      "  warnings.warn(\n",
      "/Users/aymanatmani/miniforge3/lib/python3.10/site-packages/fairlearn/metrics/_metric_frame.py:77: FutureWarning: You have provided 'metrics', 'y_true', 'y_pred' as positional arguments. Please pass them as keyword arguments. From version 0.10.0 passing them as positional arguments will result in an error.\n",
      "  warnings.warn(\n",
      "/Users/aymanatmani/miniforge3/lib/python3.10/site-packages/fairlearn/metrics/_metric_frame.py:77: FutureWarning: You have provided 'metrics', 'y_true', 'y_pred' as positional arguments. Please pass them as keyword arguments. From version 0.10.0 passing them as positional arguments will result in an error.\n",
      "  warnings.warn(\n",
      "/Users/aymanatmani/miniforge3/lib/python3.10/site-packages/fairlearn/metrics/_metric_frame.py:77: FutureWarning: You have provided 'metrics', 'y_true', 'y_pred' as positional arguments. Please pass them as keyword arguments. From version 0.10.0 passing them as positional arguments will result in an error.\n",
      "  warnings.warn(\n",
      "/Users/aymanatmani/miniforge3/lib/python3.10/site-packages/fairlearn/metrics/_metric_frame.py:77: FutureWarning: You have provided 'metrics', 'y_true', 'y_pred' as positional arguments. Please pass them as keyword arguments. From version 0.10.0 passing them as positional arguments will result in an error.\n",
      "  warnings.warn(\n",
      "/Users/aymanatmani/miniforge3/lib/python3.10/site-packages/fairlearn/metrics/_metric_frame.py:77: FutureWarning: You have provided 'metrics', 'y_true', 'y_pred' as positional arguments. Please pass them as keyword arguments. From version 0.10.0 passing them as positional arguments will result in an error.\n",
      "  warnings.warn(\n",
      "/Users/aymanatmani/miniforge3/lib/python3.10/site-packages/fairlearn/metrics/_metric_frame.py:77: FutureWarning: You have provided 'metrics', 'y_true', 'y_pred' as positional arguments. Please pass them as keyword arguments. From version 0.10.0 passing them as positional arguments will result in an error.\n",
      "  warnings.warn(\n"
     ]
    }
   ],
   "source": [
    "from fairlearn.metrics import MetricFrame\n",
    "from sklearn.metrics import accuracy_score\n",
    "\n",
    "best_model = None\n",
    "best_balance = float('inf')\n",
    "\n",
    "for predictor in sweep.predictors_:\n",
    "    y_pred = predictor.predict(X_test)\n",
    "    accuracy = accuracy_score(y_test, y_pred)\n",
    "\n",
    "    # Step 1: Compute disparity\n",
    "    metric_frame = MetricFrame(accuracy_score, y_test, y_pred, sensitive_features=X_test['SEX'])\n",
    "    # Assuming 0 and 1 are the encoded values for male and female in SEX\n",
    "    disparity = abs(metric_frame.by_group[0] - metric_frame.by_group[1])\n",
    "\n",
    "    # Step 2: Combine accuracy and disparity\n",
    "    alpha = 0.5  # Adjust this value based on your priorities\n",
    "    balance = alpha * (1 - accuracy) + (1 - alpha) * disparity\n",
    "    \n",
    "    if balance < best_balance:\n",
    "        best_balance = balance\n",
    "        best_model = predictor\n",
    "\n"
   ]
  },
  {
   "cell_type": "code",
   "execution_count": 245,
   "metadata": {},
   "outputs": [
    {
     "name": "stdout",
     "output_type": "stream",
     "text": [
      "Selection Rate Group Summary:\n",
      "SEX\n",
      "0    1.0\n",
      "1    0.0\n",
      "Name: selection_rate, dtype: float64\n"
     ]
    },
    {
     "name": "stderr",
     "output_type": "stream",
     "text": [
      "/Users/aymanatmani/miniforge3/lib/python3.10/site-packages/fairlearn/metrics/_metric_frame.py:77: FutureWarning: You have provided 'metrics' as positional arguments. Please pass them as keyword arguments. From version 0.10.0 passing them as positional arguments will result in an error.\n",
      "  warnings.warn(\n",
      "/var/folders/5z/d82bj78x63vb86pgwwtjf51m0000gn/T/ipykernel_18797/1979757879.py:17: SettingWithCopyWarning: \n",
      "A value is trying to be set on a copy of a slice from a DataFrame.\n",
      "Try using .loc[row_indexer,col_indexer] = value instead\n",
      "\n",
      "See the caveats in the documentation: https://pandas.pydata.org/pandas-docs/stable/user_guide/indexing.html#returning-a-view-versus-a-copy\n",
      "  test_data['default-payment-next-month'] = y_val\n"
     ]
    }
   ],
   "source": [
    "from fairlearn.metrics import MetricFrame, selection_rate\n",
    "\n",
    "metric_frame_instance = MetricFrame(selection_rate,\n",
    "                                    y_true=y_test,\n",
    "                                    y_pred=y_pred,\n",
    "                                    sensitive_features=X_test['SEX'])\n",
    "\n",
    "print(\"Selection Rate Group Summary:\")\n",
    "print(metric_frame_instance.by_group)\n",
    "\n",
    "\n",
    "\n",
    "X_val = test_data.drop(columns=['ID', 'default-payment-next-month'])\n",
    "# Predict on Validation Set\n",
    "y_val = best_model.predict(X_val)\n",
    "y_val = y_val.astype(int)  # Convert to integers\n",
    "test_data['default-payment-next-month'] = y_val"
   ]
  },
  {
   "cell_type": "code",
   "execution_count": 246,
   "metadata": {},
   "outputs": [],
   "source": [
    "combined_data = pd.concat([train_data, test_data], axis=0).reset_index(drop=True)\n",
    "\n",
    "final_data = pd.read_csv(file_path)\n",
    "\n",
    "final_data['default-payment-next-month'] = combined_data['default-payment-next-month'].astype(int)\n",
    "\n"
   ]
  },
  {
   "cell_type": "code",
   "execution_count": 247,
   "metadata": {},
   "outputs": [],
   "source": [
    "final_data.to_csv('submission_gb.csv', index=False)"
   ]
  }
 ],
 "metadata": {
  "kernelspec": {
   "display_name": "base",
   "language": "python",
   "name": "python3"
  },
  "language_info": {
   "codemirror_mode": {
    "name": "ipython",
    "version": 3
   },
   "file_extension": ".py",
   "mimetype": "text/x-python",
   "name": "python",
   "nbconvert_exporter": "python",
   "pygments_lexer": "ipython3",
   "version": "3.10.8"
  },
  "orig_nbformat": 4
 },
 "nbformat": 4,
 "nbformat_minor": 2
}
